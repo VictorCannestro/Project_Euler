{
 "cells": [
  {
   "cell_type": "code",
   "execution_count": 5,
   "metadata": {},
   "outputs": [
    {
     "name": "stdout",
     "output_type": "stream",
     "text": [
      "31626\n"
     ]
    }
   ],
   "source": [
    "############################################################################################################################\n",
    "# Amicable numbers\n",
    "# Problem 21\n",
    "# \n",
    "# Let d(n) be defined as the sum of proper divisors of n (numbers less than n which divide evenly into n).\n",
    "# If d(a) = b and d(b) = a, where a != b, then a and b are an amicable pair and each of a and b are called amicable numbers.\n",
    "#\n",
    "# For example, the proper divisors of 220 are 1, 2, 4, 5, 10, 11, 20, 22, 44, 55 and 110; therefore d(220) = 284. \n",
    "# The proper divisors of 284 are 1, 2, 4, 71 and 142; so d(284) = 220.\n",
    "#\n",
    "# Evaluate the sum of all the amicable numbers under 10000.\n",
    "#\n",
    "############################################################################################################################\n",
    "import numpy as np\n",
    "\n",
    "def d(n):\n",
    "    '''Amicable number: the sum of the proper divisors of n'''\n",
    "    return np.sum(propDivisors(n))\n",
    "\n",
    "def propDivisors(n):\n",
    "    '''\n",
    "    Args: \n",
    "            n (int): the number to find divisors of\n",
    "    \n",
    "    Notes:\n",
    "            Proper divisors of n: numbers less than n which divide evenly into n\n",
    "            - n != x ensures the divisor isn't the number itself\n",
    "            - n % x == 0 ensures n divides x\n",
    "            - range(1, (n + 1) // 2 + 1) to cut down the search space \n",
    "            \n",
    "            http://rosettacode.org/wiki/Proper_divisors#Python\n",
    "    '''\n",
    "    return np.array([x for x in range(1, (n + 1) // 2 + 1) if n % x == 0 and n != x])\n",
    "    \n",
    "def isAmicablePair(n,m):\n",
    "    '''\n",
    "    Amicable pair: If d(a) = b and d(b) = a, where a != b, then a and b are an amicable pair and \n",
    "                   each of a and b are called amicable numbers.\n",
    "    '''\n",
    "    return  d(n) == m and d(m) == n\n",
    "\n",
    "def getAmicableParis(k):\n",
    "    '''Generate the amicable paris found in range [1,k]'''\n",
    "    # Make a dictionary of all propor divisor sums\n",
    "    candidates = {n: d(n) for n in range(1, k + 1)}\n",
    "    for n, dn in candidates.items():\n",
    "        # Check the conditions for an amicable pair\n",
    "        if n < dn and dn <= k and candidates[dn] == n:\n",
    "            yield n, dn\n",
    "\n",
    "N = 10000\n",
    "pairs = [*getAmicableParis(N)]\n",
    "result = sum(p[0]+p[1] for p in pairs)\n",
    "print(result)"
   ]
  },
  {
   "cell_type": "code",
   "execution_count": 2,
   "metadata": {},
   "outputs": [],
   "source": [
    "def test1():\n",
    "    #test = '''3\\n7 4\\n2 4 6\\n8 5 9 3'''.replace('\\n',',').split(',')\n",
    "    #test = [row.split(' ') for row in test]\n",
    "    #test = str2Int(test)\n",
    "    #assert findPath(test) == [3,7,4,9]\n",
    "    pass\n",
    "test1()"
   ]
  },
  {
   "cell_type": "code",
   "execution_count": null,
   "metadata": {},
   "outputs": [],
   "source": []
  },
  {
   "cell_type": "code",
   "execution_count": null,
   "metadata": {},
   "outputs": [],
   "source": []
  },
  {
   "cell_type": "code",
   "execution_count": null,
   "metadata": {},
   "outputs": [],
   "source": []
  }
 ],
 "metadata": {
  "kernelspec": {
   "display_name": "Python 3",
   "language": "python",
   "name": "python3"
  },
  "language_info": {
   "codemirror_mode": {
    "name": "ipython",
    "version": 3
   },
   "file_extension": ".py",
   "mimetype": "text/x-python",
   "name": "python",
   "nbconvert_exporter": "python",
   "pygments_lexer": "ipython3",
   "version": "3.7.6"
  }
 },
 "nbformat": 4,
 "nbformat_minor": 4
}
