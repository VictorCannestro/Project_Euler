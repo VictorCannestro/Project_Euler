{
 "cells": [
  {
   "cell_type": "code",
   "execution_count": 3,
   "metadata": {},
   "outputs": [],
   "source": [
    "# Starting in the top left corner of a 2×2 grid, and only being able to move \n",
    "# to the right and down, there are exactly 6 routes to the bottom right corner.\n",
    "#\n",
    "# How many such routes are there through a 20×20 grid?\n"
   ]
  },
  {
   "cell_type": "code",
   "execution_count": 2,
   "metadata": {},
   "outputs": [],
   "source": [
    "def test1():\n",
    "    assert collatz(13) == 40\n",
    "    \n",
    "def test2():\n",
    "    # 13 → 40 → 20 → 10 → 5 → 16 → 8 → 4 → 2 → 1\n",
    "    assert lenCollatz(13) == 10\n",
    "    \n",
    "test1()\n",
    "test2()"
   ]
  },
  {
   "cell_type": "code",
   "execution_count": null,
   "metadata": {},
   "outputs": [],
   "source": []
  }
 ],
 "metadata": {
  "kernelspec": {
   "display_name": "Python 3",
   "language": "python",
   "name": "python3"
  },
  "language_info": {
   "codemirror_mode": {
    "name": "ipython",
    "version": 3
   },
   "file_extension": ".py",
   "mimetype": "text/x-python",
   "name": "python",
   "nbconvert_exporter": "python",
   "pygments_lexer": "ipython3",
   "version": "3.7.6"
  }
 },
 "nbformat": 4,
 "nbformat_minor": 4
}
