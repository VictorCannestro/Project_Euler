{
 "cells": [
  {
   "cell_type": "code",
   "execution_count": 1,
   "metadata": {},
   "outputs": [
    {
     "name": "stdout",
     "output_type": "stream",
     "text": [
      "21124\n"
     ]
    }
   ],
   "source": [
    "# If the numbers 1 to 5 are written out in words: one, two, three, four, five, \n",
    "# then there are 3 + 3 + 5 + 4 + 4 = 19 letters used in total.\n",
    "#\n",
    "# If all the numbers from 1 to 1000 (one thousand) inclusive were written out \n",
    "# in words, how many letters would be used?\n",
    "\n",
    "# NOTE: Do not count spaces or hyphens. For example, 342 (three hundred and \n",
    "# forty-two) contains 23 letters and 115 (one hundred and fifteen) contains \n",
    "# 20 letters. The use of \"and\" when writing out numbers is in compliance with \n",
    "# British usage.\n",
    "\n",
    "nums = {0:'', 1:'one', 2:'two', 3:'three', 4:'four', 5:'five', 6:'six', 7:'seven', 8:'eight', 9:'nine',\n",
    "        10:'ten', 11:'eleven', 12:'twelve', 13:'thirteen', 14:'fourteen', 15:'fifteen', 16:'sixteen',\n",
    "        17:'seventeen', 18:'eighteen', 19:'nineteen', 20:'twenty', 30:'thirty', 40:'forty', 50:'fifty',\n",
    "        60:'sixty', 70:'seventy', 80:'eighty', 90:'ninety', 100:'onehundred', 200:'twohundred', 300:'threehundred',\n",
    "        400:'fourhundred', 500:'fivehundred', 600:'sixhundred', 700:'sevenhundred', 800:'eighthundred',\n",
    "        900:'ninehundred', 1000:'onethousand'}\n",
    "\n",
    "def countNums(n, nums):\n",
    "    '''Count the total number of letters of every number from 1 to n'''\n",
    "    \n",
    "    count = 0\n",
    "    \n",
    "    for i in range(n+1):\n",
    "        # Count all the keys\n",
    "        if i in nums.keys():\n",
    "            count += len(nums[i])\n",
    "\n",
    "        elif i in range(21,100) and i not in nums.keys():\n",
    "            # Get first and second digits\n",
    "            w = nums[(i//10) * 10] + nums[i%10]\n",
    "            count += len(w)\n",
    "\n",
    "        elif i in range(101,1000):\n",
    "            # Get first digit\n",
    "            w = nums[(i//100) * 100] + 'and'\n",
    "\n",
    "            # Numbers like 111, 112, ..., 119\n",
    "            if i % 100 in nums.keys():\n",
    "                w += nums[i % 100]\n",
    "            else:\n",
    "                # Get second and thrid digits\n",
    "                w += nums[(i//10) % 10 * 10] +  nums[i%10]\n",
    "            count += len(w)\n",
    "            \n",
    "    return count\n",
    "\n",
    "print(countNums(1000, nums))"
   ]
  },
  {
   "cell_type": "code",
   "execution_count": 2,
   "metadata": {},
   "outputs": [],
   "source": [
    "def test1():\n",
    "    # 3 + 3 + 5 + 4 + 4 = 19\n",
    "    assert countNums(5, nums) == 19\n",
    "    \n",
    "test1()"
   ]
  },
  {
   "cell_type": "code",
   "execution_count": 3,
   "metadata": {},
   "outputs": [
    {
     "name": "stdout",
     "output_type": "stream",
     "text": [
      "21124\n"
     ]
    }
   ],
   "source": [
    "# Hideous Brute Force Approach\n",
    "\n",
    "ones = ['one','two','three','four','five','six','seven','eight','nine']\n",
    "tens = ['ten','eleven','twelve','thirteen','fourteen','fifteen','sixteen','seventeen','eighteen','nineteen']\n",
    "tens2 = ['twenty','thirty','forty','fifty','sixty','seventy','eighty','ninety']\n",
    "hundred = 'hundred'\n",
    "thousand = 'thousand'\n",
    "\n",
    "\n",
    "count = 0\n",
    "\n",
    "# Count 1-9\n",
    "for i in ones:\n",
    "    count += len(i)\n",
    "\n",
    "# Count 10-19\n",
    "for i in tens:\n",
    "    count += len(i)\n",
    "    \n",
    "# Count 20-99\n",
    "for i in tens2:\n",
    "    count += len(i)\n",
    "    for j in ones:\n",
    "        count += len(i+j)\n",
    "\n",
    "# Count 100-999 with the extra 'and'\n",
    "for h in ones:\n",
    "    h += hundred\n",
    "    count += len(h)\n",
    "    \n",
    "    # Count 1-9\n",
    "    for i in ones:\n",
    "        count += len(h+'and'+i)\n",
    "        \n",
    "    # Count 10-19\n",
    "    for i in tens:\n",
    "        count += len(h+'and'+i)\n",
    "\n",
    "    # Count 20-99\n",
    "    for i in tens2:\n",
    "        count += len(h+'and'+i)\n",
    "        for j in ones:\n",
    "            count += len(h+'and'+i+j)\n",
    "            \n",
    "# count to 1000\n",
    "count += len(ones[0]+ thousand)\n",
    "print(count)"
   ]
  },
  {
   "cell_type": "code",
   "execution_count": null,
   "metadata": {},
   "outputs": [],
   "source": []
  }
 ],
 "metadata": {
  "kernelspec": {
   "display_name": "Python 3",
   "language": "python",
   "name": "python3"
  },
  "language_info": {
   "codemirror_mode": {
    "name": "ipython",
    "version": 3
   },
   "file_extension": ".py",
   "mimetype": "text/x-python",
   "name": "python",
   "nbconvert_exporter": "python",
   "pygments_lexer": "ipython3",
   "version": "3.7.6"
  }
 },
 "nbformat": 4,
 "nbformat_minor": 4
}
