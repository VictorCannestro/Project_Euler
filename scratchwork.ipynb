{
 "cells": [
  {
   "cell_type": "code",
   "execution_count": 53,
   "metadata": {},
   "outputs": [
    {
     "name": "stdout",
     "output_type": "stream",
     "text": [
      "871198282\n"
     ]
    }
   ],
   "source": [
    "############################################################################################################################\n",
    "# Names scores\n",
    "# Problem 22\n",
    "# \n",
    "# Using names.txt (right click and 'Save Link/Target As...'), a 46K text file containing over five-thousand first names, \n",
    "# begin by sorting it into alphabetical order. Then working out the alphabetical value for each name, multiply this \n",
    "# value by its alphabetical position in the list to obtain a name score.\n",
    "#\n",
    "# For example, when the list is sorted into alphabetical order, COLIN, which is worth 3 + 15 + 12 + 9 + 14 = 53, is the \n",
    "# 938th name in the list. So, COLIN would obtain a score of 938 × 53 = 49714.\n",
    "#\n",
    "# What is the total of all the name scores in the file?\n",
    "#\n",
    "############################################################################################################################\n",
    "\n",
    "# https://docs.python.org/3/library/string.html\n",
    "import string\n",
    "\n",
    "filename = 'data/p022_names.txt'\n",
    "alphabet = string.ascii_uppercase\n",
    "\n",
    "# Open the file and read the contents\n",
    "with open(filename, 'r') as file:\n",
    "    content = file.readlines()\n",
    "\n",
    "# Parse contents into a list of string names in alphabetical order\n",
    "names = sorted(content[0].upper().replace(\"\\\"\",'').split(','))\n",
    "\n",
    "# Give each name the value of its index + 1 in the sorted list\n",
    "name_dict = {v:i+1 for i,v in enumerate(names)}\n",
    "\n",
    "# Score the alphabet\n",
    "scores = {v:i+1 for i,v in enumerate(alphabet)}\n",
    "\n",
    "# For each name, sum the index value of each of its letters in the alphabet\n",
    "scored_by_alpha = {key: sum(scores[letter] for letter in list(names[i])) for i, key in enumerate(name_dict)}\n",
    "\n",
    "# Finally, multiply by its index to get the name score\n",
    "scored_names = { k:scored_by_alpha[k]*name_dict[k] for k in scored_by_alpha.keys() }\n",
    "\n",
    "print(sum(scored_names.values()))"
   ]
  },
  {
   "cell_type": "code",
   "execution_count": 2,
   "metadata": {},
   "outputs": [],
   "source": [
    "def test1():\n",
    "    #test = '''3\\n7 4\\n2 4 6\\n8 5 9 3'''.replace('\\n',',').split(',')\n",
    "    #test = [row.split(' ') for row in test]\n",
    "    #test = str2Int(test)\n",
    "    #assert findPath(test) == [3,7,4,9]\n",
    "    pass\n",
    "test1()"
   ]
  },
  {
   "cell_type": "code",
   "execution_count": null,
   "metadata": {},
   "outputs": [],
   "source": []
  },
  {
   "cell_type": "code",
   "execution_count": null,
   "metadata": {},
   "outputs": [],
   "source": []
  },
  {
   "cell_type": "code",
   "execution_count": null,
   "metadata": {},
   "outputs": [],
   "source": []
  }
 ],
 "metadata": {
  "kernelspec": {
   "display_name": "Python 3",
   "language": "python",
   "name": "python3"
  },
  "language_info": {
   "codemirror_mode": {
    "name": "ipython",
    "version": 3
   },
   "file_extension": ".py",
   "mimetype": "text/x-python",
   "name": "python",
   "nbconvert_exporter": "python",
   "pygments_lexer": "ipython3",
   "version": "3.7.6"
  }
 },
 "nbformat": 4,
 "nbformat_minor": 4
}
