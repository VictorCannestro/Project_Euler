{
 "cells": [
  {
   "cell_type": "code",
   "execution_count": 25,
   "metadata": {},
   "outputs": [
    {
     "name": "stdout",
     "output_type": "stream",
     "text": [
      "(2, 7, 8, 3, 9, 1, 5, 4, 6, 0)\n",
      "2783915460\n"
     ]
    }
   ],
   "source": [
    "############################################################################################################################\n",
    "# Lexicographic permutations\n",
    "# Problem 24\n",
    "#\n",
    "# A permutation is an ordered arrangement of objects. For example, 3124 is one possible permutation of the digits \n",
    "# 1, 2, 3 and 4. If all of the permutations are listed numerically or alphabetically, we call it lexicographic \n",
    "# order. The lexicographic permutations of 0, 1 and 2 are:\n",
    "#\n",
    "# 012   021   102   120   201   210\n",
    "#\n",
    "# What is the millionth lexicographic permutation of the digits 0, 1, 2, 3, 4, 5, 6, 7, 8 and 9?\n",
    "#\n",
    "# Notes:\n",
    "############################################################################################################################\n",
    "\n",
    "from itertools import permutations\n",
    "\n",
    "# Return successive r length permutations of elements in the iterable.\n",
    "#\n",
    "# The permutation tuples are emitted in lexicographic ordering according\n",
    "# to the order of the input iterable. So, if the input iterable is sorted, \n",
    "# the combination tuples will be produced in sorted order.\n",
    "\n",
    "# Elements are treated as unique based on their position, not on their \n",
    "# value. So if the input elements are unique, there will be no repeat \n",
    "# values in each permutation\n",
    "calc = permutations(range(10), 10)\n",
    "\n",
    "# Turn iterator into a list and observe the 1,000,000th value\n",
    "vals = [*calc]\n",
    "ans = vals[999999]\n",
    "\n",
    "def tuple2Num(tup):\n",
    "    '''\n",
    "    Args:\n",
    "        tup (tuple): a tuple of digits \n",
    "    Returns:\n",
    "        (int): the corresponding integer\n",
    "    Notes:\n",
    "          >>t = (2, 7, 8, 3, 9, 1, 5, 4, 6, 0)\n",
    "          >>tuple2Num(t)\n",
    "              2783915460\n",
    "    '''\n",
    "    return sum( tup[-(i+1)] * 10**i for i in range(len(tup)) )\n",
    "    \n",
    "print(ans)\n",
    "print(tuple2Num(ans))"
   ]
  },
  {
   "cell_type": "code",
   "execution_count": 26,
   "metadata": {},
   "outputs": [],
   "source": [
    "def test1():\n",
    "    calc = [*permutations(range(3), 3)]\n",
    "    ans = [(0,1,2), (0,2,1), (1,0,2), (1,2,0), (2,0,1), (2,1,0)]\n",
    "    check = [ans[i] == calc[i] for i in range(len(ans))]\n",
    "    assert sum(check) == 6\n",
    "test1()"
   ]
  },
  {
   "cell_type": "code",
   "execution_count": null,
   "metadata": {},
   "outputs": [],
   "source": []
  },
  {
   "cell_type": "code",
   "execution_count": null,
   "metadata": {},
   "outputs": [],
   "source": []
  },
  {
   "cell_type": "code",
   "execution_count": null,
   "metadata": {},
   "outputs": [],
   "source": []
  }
 ],
 "metadata": {
  "kernelspec": {
   "display_name": "Python 3",
   "language": "python",
   "name": "python3"
  },
  "language_info": {
   "codemirror_mode": {
    "name": "ipython",
    "version": 3
   },
   "file_extension": ".py",
   "mimetype": "text/x-python",
   "name": "python",
   "nbconvert_exporter": "python",
   "pygments_lexer": "ipython3",
   "version": "3.7.6"
  }
 },
 "nbformat": 4,
 "nbformat_minor": 4
}
