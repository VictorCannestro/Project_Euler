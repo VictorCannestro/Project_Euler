{
 "cells": [
  {
   "cell_type": "code",
   "execution_count": 8,
   "metadata": {},
   "outputs": [
    {
     "name": "stdout",
     "output_type": "stream",
     "text": [
      "4179871\n"
     ]
    }
   ],
   "source": [
    "############################################################################################################################\n",
    "# Non-abundant sums\n",
    "# Problem 23\n",
    "# \n",
    "# A perfect number is a number for which the sum of its proper divisors is exactly equal to the number. For example, \n",
    "# the sum of the proper divisors of 28 would be 1 + 2 + 4 + 7 + 14 = 28, which means that 28 is a perfect number.\n",
    "#\n",
    "# A number n is called deficient if the sum of its proper divisors is less than n and it is called abundant if this \n",
    "# sum exceeds n.\n",
    "#\n",
    "# As 12 is the smallest abundant number, 1 + 2 + 3 + 4 + 6 = 16, the smallest number that can be written as the sum \n",
    "# of two abundant numbers is 24. By mathematical analysis, it can be shown that all integers greater than 28123 can \n",
    "# be written as the sum of two abundant numbers. However, this upper limit cannot be reduced any further by analysis \n",
    "# even though it is known that the greatest number that cannot be expressed as the sum of two abundant numbers is \n",
    "# less than this limit.\n",
    "#\n",
    "# Find the sum of all the positive integers which cannot be written as the sum of two abundant numbers.\n",
    "#\n",
    "# Notes:\n",
    "#        (1) The proper divisor algorithm is a bottleneck\n",
    "#        (2) The sum_of_2_abundants is a bottleneck\n",
    "############################################################################################################################\n",
    "\n",
    "def propDivisors(n):\n",
    "    '''\n",
    "    Args: \n",
    "            n (int): the number to find divisors of\n",
    "    \n",
    "    Notes:\n",
    "            Proper divisors of n: numbers less than n which divide evenly into n\n",
    "            - n != x ensures the divisor isn't the number itself\n",
    "            - n % x == 0 ensures n divides x\n",
    "            - range(1, (n + 1) // 2 + 1) to cut down the search space \n",
    "            \n",
    "            A simplified solution suitible for small numbers\n",
    "            http://rosettacode.org/wiki/Proper_divisors#Python\n",
    "    '''\n",
    "    return [x for x in range(1, (n + 1) // 2 + 1) if n % x == 0 and n != x]\n",
    "\n",
    "def sumDivisors(n):\n",
    "    return sum(propDivisors(n))\n",
    "\n",
    "def recordSums(n):\n",
    "    '''\n",
    "    Args:\n",
    "        n (int): the upper bound of the search space \n",
    "    Returns:\n",
    "        (dict): a dictionary of the natural numbers with values equal to the sum \n",
    "                of each's proper divisors\n",
    "    '''\n",
    "    return {k:sumDivisors(k) for k in range(1, n+1)}\n",
    "\n",
    "# Filter to find all the abundant numbers below the analytic limit\n",
    "N = 28123\n",
    "abundant = [k for k,v in recordSums(N).items() if v > k]\n",
    "\n",
    "# Find all the numbers that are the sum of 2 abundant numbers (below analytic limit) \n",
    "sum_of_2_abundants = set([i+j for i in abundant for j in abundant])\n",
    "\n",
    "# The set of all nums up to our analytic limit \n",
    "all_nums = set([*range(1,N+1)])\n",
    "\n",
    "# Filter out all the numbers that can be written as the sum of two abundant numbers\n",
    "not_sum_of_2 = list(all_nums - x)\n",
    "ans = sum(not_sum_of_2)\n",
    "print(ans)"
   ]
  },
  {
   "cell_type": "code",
   "execution_count": 2,
   "metadata": {},
   "outputs": [],
   "source": [
    "def test1():\n",
    "    #test = '''3\\n7 4\\n2 4 6\\n8 5 9 3'''.replace('\\n',',').split(',')\n",
    "    #test = [row.split(' ') for row in test]\n",
    "    #test = str2Int(test)\n",
    "    #assert findPath(test) == [3,7,4,9]\n",
    "    pass\n",
    "test1()"
   ]
  },
  {
   "cell_type": "code",
   "execution_count": null,
   "metadata": {},
   "outputs": [],
   "source": []
  },
  {
   "cell_type": "code",
   "execution_count": null,
   "metadata": {},
   "outputs": [],
   "source": []
  },
  {
   "cell_type": "code",
   "execution_count": null,
   "metadata": {},
   "outputs": [],
   "source": []
  }
 ],
 "metadata": {
  "kernelspec": {
   "display_name": "Python 3",
   "language": "python",
   "name": "python3"
  },
  "language_info": {
   "codemirror_mode": {
    "name": "ipython",
    "version": 3
   },
   "file_extension": ".py",
   "mimetype": "text/x-python",
   "name": "python",
   "nbconvert_exporter": "python",
   "pygments_lexer": "ipython3",
   "version": "3.7.6"
  }
 },
 "nbformat": 4,
 "nbformat_minor": 4
}
