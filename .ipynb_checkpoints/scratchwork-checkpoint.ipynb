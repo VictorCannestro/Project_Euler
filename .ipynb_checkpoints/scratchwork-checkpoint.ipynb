{
 "cells": [
  {
   "cell_type": "code",
   "execution_count": 1,
   "metadata": {},
   "outputs": [],
   "source": [
    "############################################################################################################################\n",
    "# Reciprocal cycles\n",
    "# Problem 26\n",
    "#\n",
    "# A unit fraction contains 1 in the numerator. The decimal representation of the unit fractions with denominators \n",
    "# 2 to 10 are given:\n",
    "#\n",
    "# 1/2\t= \t0.5\n",
    "# 1/3\t= \t0.(3)\n",
    "# 1/4\t= \t0.25\n",
    "# 1/5\t= \t0.2\n",
    "# 1/6\t= \t0.1(6)\n",
    "# 1/7\t= \t0.(142857)\n",
    "# 1/8\t= \t0.125\n",
    "# 1/9\t= \t0.(1)\n",
    "# 1/10\t= \t0.1\n",
    "# \n",
    "# Where 0.1(6) means 0.166666..., and has a 1-digit recurring cycle. It can be seen that 1/7 has a 6-digit recurring cycle.\n",
    "# \n",
    "# Find the value of d < 1000 for which 1/d contains the longest recurring cycle in its decimal fraction part.\n",
    "#\n",
    "# Notes: \n",
    "#       (1) https://oeis.org/A051626\n",
    "#       (2) https://www.wikiwand.com/en/Repeating_decimal\n",
    "#       (3) https://oeis.org/A001913\n",
    "############################################################################################################################\n",
    "\n",
    "# upper limit\n",
    "d = 1000\n",
    "\n"
   ]
  },
  {
   "cell_type": "code",
   "execution_count": null,
   "metadata": {},
   "outputs": [],
   "source": []
  },
  {
   "cell_type": "code",
   "execution_count": 26,
   "metadata": {},
   "outputs": [],
   "source": [
    "def test1():\n",
    "    assert findPattern(d_inv[7]) == '142857'\n",
    "    assert findPattern(d_inv[9]) == '1'\n",
    "test1()"
   ]
  },
  {
   "cell_type": "code",
   "execution_count": null,
   "metadata": {},
   "outputs": [],
   "source": [
    "############################################################################################################################\n",
    "# Quadratic primes\n",
    "# Problem 27\n",
    "#\n",
    "# Euler discovered a remarkable quadratic formula: n**2 + n + 41.\n",
    "#\n",
    "# It turns out that the formula will produce 40 primes for the consecutive integer values 0 <= n <= 39. However, \n",
    "# when n=40, \n",
    "#\n",
    "# (40**2 + 40 + 41) = 40(40 + 1) + 41 \n",
    "#\n",
    "# is divisible by 41, and certainly when n=41, \n",
    "#\n",
    "# (41**2 + 41 + 41) = 41(41 + 2) \n",
    "#\n",
    "# is clearly divisible by 41. The incredible formula n**2 - 79*n + 1601 was discovered, which produces 80 primes for \n",
    "# the consecutive values 0 <= n <= 79. The product of the coefficients, −79 and 1601, is −126479. Considering \n",
    "# quadratics of the form:\n",
    "# \n",
    "# n**2 + a*n + b, where |a| < 1000 and |b| <= 1000\n",
    "#\n",
    "# where |n| is the modulus/absolute value of n. \n",
    "#\n",
    "# Find the product of the coefficients, a and b, for the quadratic expression that produces the maximum number of \n",
    "# primes for consecutive values of n, starting with n=0.\n",
    "#\n",
    "# Notes: \n",
    "#       (1) \n",
    "############################################################################################################################\n",
    "\n"
   ]
  },
  {
   "cell_type": "code",
   "execution_count": 5,
   "metadata": {},
   "outputs": [
    {
     "name": "stdout",
     "output_type": "stream",
     "text": [
      "4613732\n"
     ]
    }
   ],
   "source": [
    "!python src/pe2.py"
   ]
  },
  {
   "cell_type": "code",
   "execution_count": null,
   "metadata": {},
   "outputs": [],
   "source": []
  },
  {
   "cell_type": "code",
   "execution_count": null,
   "metadata": {},
   "outputs": [],
   "source": []
  }
 ],
 "metadata": {
  "kernelspec": {
   "display_name": "Python 3",
   "language": "python",
   "name": "python3"
  },
  "language_info": {
   "codemirror_mode": {
    "name": "ipython",
    "version": 3
   },
   "file_extension": ".py",
   "mimetype": "text/x-python",
   "name": "python",
   "nbconvert_exporter": "python",
   "pygments_lexer": "ipython3",
   "version": "3.7.6"
  }
 },
 "nbformat": 4,
 "nbformat_minor": 4
}
