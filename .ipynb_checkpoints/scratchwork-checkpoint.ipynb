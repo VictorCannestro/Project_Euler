{
 "cells": [
  {
   "cell_type": "code",
   "execution_count": null,
   "metadata": {},
   "outputs": [],
   "source": [
    "# A Pythagorean triplet is a set of three natural numbers, a < b < c, for which,\n",
    "# a**2 + b**2 = c**2\n",
    "#\n",
    "# For example, 3**2 + 4**2 = 9 + 16 = 25 = 5**2.\n",
    "#\n",
    "# There exists exactly one Pythagorean triplet for which a + b + c = 1000.\n",
    "# Find the product abc.\n",
    "def triplets(n):\n",
    "     return [(a,b,c) for a in range(n) for b in range(n) for c in range(n) if (a**2 + b**2 - c**2 == 0) and (a < b) and (b < c)]\n",
    "\n",
    "n = 10\n",
    "triplets(n)"
   ]
  },
  {
   "cell_type": "code",
   "execution_count": null,
   "metadata": {},
   "outputs": [],
   "source": [
    "def test1():\n",
    "    assert adjacentProduct(4, num) == 5832\n",
    "\n",
    "test1()"
   ]
  },
  {
   "cell_type": "code",
   "execution_count": null,
   "metadata": {},
   "outputs": [],
   "source": []
  }
 ],
 "metadata": {
  "kernelspec": {
   "display_name": "Python 3",
   "language": "python",
   "name": "python3"
  },
  "language_info": {
   "codemirror_mode": {
    "name": "ipython",
    "version": 3
   },
   "file_extension": ".py",
   "mimetype": "text/x-python",
   "name": "python",
   "nbconvert_exporter": "python",
   "pygments_lexer": "ipython3",
   "version": "3.7.6"
  }
 },
 "nbformat": 4,
 "nbformat_minor": 4
}
