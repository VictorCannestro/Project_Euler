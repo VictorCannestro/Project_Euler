{
 "cells": [
  {
   "cell_type": "code",
   "execution_count": null,
   "metadata": {},
   "outputs": [],
   "source": [
    "# The following iterative sequence is defined for the set of positive integers:\n",
    "#\n",
    "# n → n/2 (n is even)\n",
    "# n → 3n + 1 (n is odd)\n",
    "#\n",
    "# It can be seen that a sequence (starting at 13 and finishing at 1) contains 10 terms. \n",
    "# Although it has not been proved yet (Collatz Problem), it is thought that all starting \n",
    "# numbers finish at 1.\n",
    "#\n",
    "# Which starting number, under one million, produces the longest chain?\n",
    "#\n",
    "# NOTE: Once the chain starts the terms are allowed to go above one million.\n",
    "\n",
    "import numpy as np\n",
    "\n",
    "def collatz(n):\n",
    "    '''Generate the next number in the sequence'''\n",
    "    if n % 2 ==0:\n",
    "        n //= 2\n",
    "    else:\n",
    "        n = 3*n + 1\n",
    "    return n\n",
    "\n",
    "def lenCollatz(i):\n",
    "    '''\n",
    "    Args:\n",
    "        i (int): the starting number of a collatz sequence\n",
    "    \n",
    "    Returns:\n",
    "        count (int > 0): the length of the collatz sequence\n",
    "    '''\n",
    "    num = i\n",
    "    count = 1\n",
    "    # Iterate until the sequence reaches 1\n",
    "    while num != 1:\n",
    "        num = collatz(num)\n",
    "        count += 1\n",
    "    return count\n",
    "   \n",
    "lim = 1000000 \n",
    "biggest = 1\n",
    "starting = 1\n",
    "for i in range(1, lim):\n",
    "    length = lenCollatz(i)\n",
    "    if length > biggest:\n",
    "        biggest = length\n",
    "        starting = i\n",
    "        \n",
    "print('The starting number', starting, 'achieves the longest sequence with length:', biggest)"
   ]
  },
  {
   "cell_type": "code",
   "execution_count": null,
   "metadata": {},
   "outputs": [],
   "source": [
    "# The longest progression for any initial starting number\n",
    "# less than 10**6 is 837799, which has 524 steps\n",
    "\n",
    "def test1():\n",
    "    assert collatz(13) == 40\n",
    "    \n",
    "def test2():\n",
    "    # 13 → 40 → 20 → 10 → 5 → 16 → 8 → 4 → 2 → 1\n",
    "    assert lenCollatz(13) == 10\n",
    "    \n",
    "test1()\n",
    "test2()"
   ]
  },
  {
   "cell_type": "code",
   "execution_count": null,
   "metadata": {},
   "outputs": [],
   "source": []
  }
 ],
 "metadata": {
  "kernelspec": {
   "display_name": "Python 3",
   "language": "python",
   "name": "python3"
  },
  "language_info": {
   "codemirror_mode": {
    "name": "ipython",
    "version": 3
   },
   "file_extension": ".py",
   "mimetype": "text/x-python",
   "name": "python",
   "nbconvert_exporter": "python",
   "pygments_lexer": "ipython3",
   "version": "3.7.6"
  }
 },
 "nbformat": 4,
 "nbformat_minor": 4
}
